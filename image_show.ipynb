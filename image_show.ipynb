{
 "cells": [
  {
   "cell_type": "code",
   "execution_count": 4,
   "id": "9606f220-1c4f-4050-b073-aa89dd47b27b",
   "metadata": {},
   "outputs": [
    {
     "name": "stdout",
     "output_type": "stream",
     "text": [
      "Directory already exists: ./result/pre_U_Net_Dice/reult_image_show/\n"
     ]
    },
    {
     "data": {
      "text/plain": [
       "True"
      ]
     },
     "execution_count": 4,
     "metadata": {},
     "output_type": "execute_result"
    }
   ],
   "source": [
    "import os\n",
    "import torch\n",
    "import cv2\n",
    "import numpy as np\n",
    "\n",
    "\n",
    "def create_overlay_image(im_path, gt_path, sr_path, save_path):\n",
    "    # 加载图像\n",
    "    im = cv2.imread(im_path)\n",
    "    gt = cv2.imread(gt_path)\n",
    "    sr = cv2.imread(sr_path)\n",
    "    # 将灰度图像二值化（阈值为0.5）\n",
    "    _, sr_binary = cv2.threshold(sr, 0.5, 255, cv2.THRESH_BINARY)\n",
    "\n",
    "    \n",
    "    \n",
    "    # 创建空白图像作为叠加图\n",
    "    overlay = np.zeros_like(im)\n",
    "    \n",
    "    # 将 gt 中的蓝色部分添加到叠加图中\n",
    "    overlay[gt[:,:,0] > 0] = [255, 0, 0]\n",
    "    \n",
    "    # 将 sr 中的红色部分添加到叠加图中\n",
    "    overlay[sr_binary[:,:,2] > 0] = [0, 0, 255]\n",
    "    \n",
    "    # 将 gt 和 sr 的交叠部分添加到叠加图中\n",
    "    overlay[(gt[:,:,0] > 0) & (sr[:,:,2] > 0)] = [0, 255, 0]\n",
    "    \n",
    "    # 叠加图与原始图像进行叠加\n",
    "    result = cv2.addWeighted(im, 0.5, overlay, 0.5, 0)\n",
    "    \n",
    "    # 保存结果图像\n",
    "    cv2.imwrite(save_path, result)\n",
    "\n",
    "\n",
    "def gen_test_over_image(model='U_Net',pre='pre',loss='Dice'):\n",
    "    save_root=f'./result/{pre}_{model}_{loss}/reult_image_show/'\n",
    "    # 检查路径是否存在，如果不存在则创建\n",
    "    if not os.path.exists(save_root):\n",
    "        os.makedirs(save_root)\n",
    "        print(\"Created directory:\", save_root)\n",
    "    else:\n",
    "        print(\"Directory already exists:\", save_root)\n",
    "    \n",
    "    #遍历所有测试结果的图片\n",
    "    for i in range(1, 32):\n",
    "    #for i in range(1, 2):\n",
    "        gt_path = f\"./result/{pre}_{model}_{loss}/{model}_test_{i}_GT.png\"\n",
    "        sr_path = f\"./result/{pre}_{model}_{loss}/{model}_test_{i}_SR.png\"\n",
    "        im_path = f\"./result/{pre}_{model}_{loss}/{model}_test_{i}_image.png\"\n",
    "        save_path=save_root+f\"{i}_showvalimage.png\"\n",
    "        create_overlay_image(im_path, gt_path, sr_path, save_path)\n",
    "        \n",
    "    return True\n",
    "    \n",
    "\n",
    "gen_test_over_image('U_Net','pre','Dice')\n",
    "            "
   ]
  },
  {
   "cell_type": "code",
   "execution_count": 6,
   "id": "69dadca5-78d4-4c5b-a842-fce779cb82f8",
   "metadata": {},
   "outputs": [
    {
     "name": "stdout",
     "output_type": "stream",
     "text": [
      "Created directory: ./result/pre_U_Net_mixed/val_image_show/\n"
     ]
    },
    {
     "name": "stderr",
     "output_type": "stream",
     "text": [
      "[ WARN:0@884.965] global loadsave.cpp:248 findDecoder imread_('./result/pre_U_Net_mixed/U_Net_valid_251_image.png'): can't open/read file: check file path/integrity\n",
      "[ WARN:0@884.966] global loadsave.cpp:248 findDecoder imread_('./result/pre_U_Net_mixed/U_Net_valid_251_GT.png'): can't open/read file: check file path/integrity\n",
      "[ WARN:0@884.967] global loadsave.cpp:248 findDecoder imread_('./result/pre_U_Net_mixed/U_Net_valid_251_SR.png'): can't open/read file: check file path/integrity\n"
     ]
    },
    {
     "ename": "TypeError",
     "evalue": "'NoneType' object is not subscriptable",
     "output_type": "error",
     "traceback": [
      "\u001b[0;31m---------------------------------------------------------------------------\u001b[0m",
      "\u001b[0;31mTypeError\u001b[0m                                 Traceback (most recent call last)",
      "Cell \u001b[0;32mIn[6], line 21\u001b[0m\n\u001b[1;32m     17\u001b[0m         create_overlay_image(im_path, gt_path, sr_path, save_path)\n\u001b[1;32m     19\u001b[0m     \u001b[38;5;28;01mreturn\u001b[39;00m \u001b[38;5;28;01mTrue\u001b[39;00m\n\u001b[0;32m---> 21\u001b[0m \u001b[43mgen_val_over_image\u001b[49m\u001b[43m(\u001b[49m\u001b[38;5;124;43m'\u001b[39;49m\u001b[38;5;124;43mU_Net\u001b[39;49m\u001b[38;5;124;43m'\u001b[39;49m\u001b[43m,\u001b[49m\u001b[38;5;124;43m'\u001b[39;49m\u001b[38;5;124;43mpre\u001b[39;49m\u001b[38;5;124;43m'\u001b[39;49m\u001b[43m,\u001b[49m\u001b[38;5;124;43m'\u001b[39;49m\u001b[38;5;124;43mmixed\u001b[39;49m\u001b[38;5;124;43m'\u001b[39;49m\u001b[43m)\u001b[49m\n",
      "Cell \u001b[0;32mIn[6], line 17\u001b[0m, in \u001b[0;36mgen_val_over_image\u001b[0;34m(model, pre, loss)\u001b[0m\n\u001b[1;32m     15\u001b[0m     im_path \u001b[38;5;241m=\u001b[39m \u001b[38;5;124mf\u001b[39m\u001b[38;5;124m\"\u001b[39m\u001b[38;5;124m./result/\u001b[39m\u001b[38;5;132;01m{\u001b[39;00mpre\u001b[38;5;132;01m}\u001b[39;00m\u001b[38;5;124m_\u001b[39m\u001b[38;5;132;01m{\u001b[39;00mmodel\u001b[38;5;132;01m}\u001b[39;00m\u001b[38;5;124m_\u001b[39m\u001b[38;5;132;01m{\u001b[39;00mloss\u001b[38;5;132;01m}\u001b[39;00m\u001b[38;5;124m/\u001b[39m\u001b[38;5;132;01m{\u001b[39;00mmodel\u001b[38;5;132;01m}\u001b[39;00m\u001b[38;5;124m_valid_\u001b[39m\u001b[38;5;132;01m{\u001b[39;00mi\u001b[38;5;132;01m}\u001b[39;00m\u001b[38;5;124m_image.png\u001b[39m\u001b[38;5;124m\"\u001b[39m\n\u001b[1;32m     16\u001b[0m     save_path\u001b[38;5;241m=\u001b[39msave_root\u001b[38;5;241m+\u001b[39m\u001b[38;5;124mf\u001b[39m\u001b[38;5;124m\"\u001b[39m\u001b[38;5;132;01m{\u001b[39;00mi\u001b[38;5;132;01m}\u001b[39;00m\u001b[38;5;124m_showvalimage.png\u001b[39m\u001b[38;5;124m\"\u001b[39m\n\u001b[0;32m---> 17\u001b[0m     \u001b[43mcreate_overlay_image\u001b[49m\u001b[43m(\u001b[49m\u001b[43mim_path\u001b[49m\u001b[43m,\u001b[49m\u001b[43m \u001b[49m\u001b[43mgt_path\u001b[49m\u001b[43m,\u001b[49m\u001b[43m \u001b[49m\u001b[43msr_path\u001b[49m\u001b[43m,\u001b[49m\u001b[43m \u001b[49m\u001b[43msave_path\u001b[49m\u001b[43m)\u001b[49m\n\u001b[1;32m     19\u001b[0m \u001b[38;5;28;01mreturn\u001b[39;00m \u001b[38;5;28;01mTrue\u001b[39;00m\n",
      "Cell \u001b[0;32mIn[4], line 21\u001b[0m, in \u001b[0;36mcreate_overlay_image\u001b[0;34m(im_path, gt_path, sr_path, save_path)\u001b[0m\n\u001b[1;32m     18\u001b[0m overlay \u001b[38;5;241m=\u001b[39m np\u001b[38;5;241m.\u001b[39mzeros_like(im)\n\u001b[1;32m     20\u001b[0m \u001b[38;5;66;03m# 将 gt 中的蓝色部分添加到叠加图中\u001b[39;00m\n\u001b[0;32m---> 21\u001b[0m overlay[\u001b[43mgt\u001b[49m\u001b[43m[\u001b[49m\u001b[43m:\u001b[49m\u001b[43m,\u001b[49m\u001b[43m:\u001b[49m\u001b[43m,\u001b[49m\u001b[38;5;241;43m0\u001b[39;49m\u001b[43m]\u001b[49m \u001b[38;5;241m>\u001b[39m \u001b[38;5;241m0\u001b[39m] \u001b[38;5;241m=\u001b[39m [\u001b[38;5;241m255\u001b[39m, \u001b[38;5;241m0\u001b[39m, \u001b[38;5;241m0\u001b[39m]\n\u001b[1;32m     23\u001b[0m \u001b[38;5;66;03m# 将 sr 中的红色部分添加到叠加图中\u001b[39;00m\n\u001b[1;32m     24\u001b[0m overlay[sr_binary[:,:,\u001b[38;5;241m2\u001b[39m] \u001b[38;5;241m>\u001b[39m \u001b[38;5;241m0\u001b[39m] \u001b[38;5;241m=\u001b[39m [\u001b[38;5;241m0\u001b[39m, \u001b[38;5;241m0\u001b[39m, \u001b[38;5;241m255\u001b[39m]\n",
      "\u001b[0;31mTypeError\u001b[0m: 'NoneType' object is not subscriptable"
     ]
    }
   ],
   "source": [
    "def gen_val_over_image(model='U_Net',pre='pre',loss='Dice'):\n",
    "    save_root=f'./result/{pre}_{model}_{loss}/val_image_show/'\n",
    "    # 检查路径是否存在，如果不存在则创建\n",
    "    if not os.path.exists(save_root):\n",
    "        os.makedirs(save_root)\n",
    "        print(\"Created directory:\", save_root)\n",
    "    else:\n",
    "        print(\"Directory already exists:\", save_root)\n",
    "    \n",
    "    #遍历所有测试结果的图片\n",
    "    for i in range(1, 600, 10):\n",
    "    #for i in range(1, 2):\n",
    "        gt_path = f\"./result/{pre}_{model}_{loss}/{model}_valid_{i}_GT.png\"\n",
    "        sr_path = f\"./result/{pre}_{model}_{loss}/{model}_valid_{i}_SR.png\"\n",
    "        im_path = f\"./result/{pre}_{model}_{loss}/{model}_valid_{i}_image.png\"\n",
    "        save_path=save_root+f\"{i}_showvalimage.png\"\n",
    "        create_overlay_image(im_path, gt_path, sr_path, save_path)\n",
    "        \n",
    "    return True\n",
    "\n",
    "gen_val_over_image('U_Net','pre','mixed')\n"
   ]
  },
  {
   "cell_type": "code",
   "execution_count": null,
   "id": "6df1a4e5-9648-43de-a1bf-fd89a89bb246",
   "metadata": {},
   "outputs": [],
   "source": []
  }
 ],
 "metadata": {
  "kernelspec": {
   "display_name": "Python 3 (ipykernel)",
   "language": "python",
   "name": "python3"
  },
  "language_info": {
   "codemirror_mode": {
    "name": "ipython",
    "version": 3
   },
   "file_extension": ".py",
   "mimetype": "text/x-python",
   "name": "python",
   "nbconvert_exporter": "python",
   "pygments_lexer": "ipython3",
   "version": "3.8.19"
  }
 },
 "nbformat": 4,
 "nbformat_minor": 5
}
